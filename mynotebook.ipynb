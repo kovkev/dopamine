{
  "nbformat": 4,
  "nbformat_minor": 0,
  "metadata": {
    "colab": {
      "name": "Untitled1.ipynb",
      "provenance": [],
      "collapsed_sections": [],
      "authorship_tag": "ABX9TyOg0g/9vwIEFnwsWOMFHkuh",
      "include_colab_link": true
    },
    "kernelspec": {
      "name": "python3",
      "display_name": "Python 3"
    },
    "language_info": {
      "name": "python"
    }
  },
  "cells": [
    {
      "cell_type": "markdown",
      "metadata": {
        "id": "view-in-github",
        "colab_type": "text"
      },
      "source": [
        "<a href=\"https://colab.research.google.com/github/kovkev/dopamine/blob/master/mynotebook.ipynb\" target=\"_parent\"><img src=\"https://colab.research.google.com/assets/colab-badge.svg\" alt=\"Open In Colab\"/></a>"
      ]
    },
    {
      "cell_type": "code",
      "execution_count": null,
      "metadata": {
        "id": "61JAdn6s9yNE"
      },
      "outputs": [],
      "source": [
        "!git clone https://github.com/kovkev/dopamine"
      ]
    },
    {
      "cell_type": "code",
      "source": [
        "!python3 -m pip install -r dopamine/requirements.txt"
      ],
      "metadata": {
        "id": "eDwxDwb_97fk"
      },
      "execution_count": null,
      "outputs": []
    },
    {
      "cell_type": "code",
      "source": [
        "!wget https://web.archive.org/web/20211229034954/http://www.atarimania.com/roms/Roms.rar"
      ],
      "metadata": {
        "id": "Nk7DfLt5GViW"
      },
      "execution_count": null,
      "outputs": []
    },
    {
      "cell_type": "code",
      "source": [
        "!unrar e Roms.rar"
      ],
      "metadata": {
        "id": "3lRPfAt2Gs3b"
      },
      "execution_count": null,
      "outputs": []
    },
    {
      "cell_type": "code",
      "source": [
        "!unzip HC\\ ROMS.zip\n",
        "!ls "
      ],
      "metadata": {
        "id": "XXWuqAZvGyMi"
      },
      "execution_count": null,
      "outputs": []
    },
    {
      "cell_type": "code",
      "source": [
        "!pip install atari-py"
      ],
      "metadata": {
        "id": "T_Bo7889-vuY"
      },
      "execution_count": null,
      "outputs": []
    },
    {
      "cell_type": "code",
      "source": [
        "!python -m atari_py.import_roms \"HC ROMS\""
      ],
      "metadata": {
        "id": "ZHE6xKWOGUCO"
      },
      "execution_count": 23,
      "outputs": []
    },
    {
      "cell_type": "code",
      "source": [
        "!python -m pip install virtualenv"
      ],
      "metadata": {
        "id": "Li0q5k9Z-4no"
      },
      "execution_count": null,
      "outputs": []
    },
    {
      "cell_type": "code",
      "source": [
        "!python -m virtualenv env"
      ],
      "metadata": {
        "id": "3GnpiOjqHdxb"
      },
      "execution_count": null,
      "outputs": []
    },
    {
      "cell_type": "code",
      "source": [
        "!source env/bin/activate ; pip install pip install ale-py"
      ],
      "metadata": {
        "id": "nptAfEcjHoAq"
      },
      "execution_count": null,
      "outputs": []
    },
    {
      "cell_type": "code",
      "source": [
        "!source env/bin/activate ; pip install -r dopamine/requirements.txt"
      ],
      "metadata": {
        "id": "pNZVPV1uHvtQ"
      },
      "execution_count": null,
      "outputs": []
    },
    {
      "cell_type": "code",
      "source": [
        "!source env/bin/activate; ale-import-roms \"/content/HC ROMS\""
      ],
      "metadata": {
        "id": "BfTDDk24H3nL"
      },
      "execution_count": null,
      "outputs": []
    },
    {
      "cell_type": "code",
      "source": [
        "!source env/bin/activate; python -m pip install transformers[sentencepiece]"
      ],
      "metadata": {
        "id": "0mrjDrIoIvH7"
      },
      "execution_count": null,
      "outputs": []
    },
    {
      "cell_type": "code",
      "source": [
        "# Note that I have modified dopamine/dopamine/discrete_domains/run_experiment.py at line 115-117 \n",
        "!source env/bin/activate; cd dopamine ; python mytest.py"
      ],
      "metadata": {
        "colab": {
          "base_uri": "https://localhost:8080/"
        },
        "id": "kUQSET_FIbDq",
        "outputId": "e1a81764-f114-4488-99e9-266d81754e9e"
      },
      "execution_count": 36,
      "outputs": [
        {
          "output_type": "stream",
          "name": "stdout",
          "text": [
            "/content/env/lib/python3.7/site-packages/ale_py/roms/utils.py:90: DeprecationWarning: SelectableGroups dict interface is deprecated. Use select.\n",
            "  for external in metadata.entry_points().get(self.group, []):\n",
            "WARNING:tensorflow:From /content/env/lib/python3.7/site-packages/tensorflow/python/compat/v2_compat.py:111: disable_resource_variables (from tensorflow.python.ops.variable_scope) is deprecated and will be removed in a future version.\n",
            "Instructions for updating:\n",
            "non-resource variables are not supported in the long term\n",
            "WARNING:tensorflow:From /content/env/lib/python3.7/site-packages/tensorflow/python/compat/v2_compat.py:111: disable_resource_variables (from tensorflow.python.ops.variable_scope) is deprecated and will be removed in a future version.\n",
            "Instructions for updating:\n",
            "non-resource variables are not supported in the long term\n",
            "A.L.E: Arcade Learning Environment (version +978d2ce)\n",
            "[Powered by Stella]\n",
            "2022-01-03 18:11:18.440546: E tensorflow/stream_executor/cuda/cuda_driver.cc:271] failed call to cuInit: CUDA_ERROR_NO_DEVICE: no CUDA-capable device is detected\n",
            "Downloading: 100% 1.17k/1.17k [00:00<00:00, 1.09MB/s]\n",
            "Downloading: 100% 231M/231M [00:04<00:00, 54.0MB/s]\n",
            "2022-01-03 18:11:24.667423: W tensorflow/python/util/util.cc:368] Sets are not currently considered sequences, but this may change in the future, so consider avoiding using them.\n",
            "Traceback (most recent call last):\n",
            "  File \"mytest.py\", line 53, in <module>\n",
            "    dqn_runner = run_experiment.create_runner(DQN_PATH, schedule='continuous_train')\n",
            "  File \"/content/env/lib/python3.7/site-packages/gin/config.py\", line 1605, in gin_wrapper\n",
            "    utils.augment_exception_message_and_reraise(e, err_str)\n",
            "  File \"/content/env/lib/python3.7/site-packages/gin/utils.py\", line 41, in augment_exception_message_and_reraise\n",
            "    raise proxy.with_traceback(exception.__traceback__) from None\n",
            "  File \"/content/env/lib/python3.7/site-packages/gin/config.py\", line 1582, in gin_wrapper\n",
            "    return fn(*new_args, **new_kwargs)\n",
            "  File \"/content/dopamine/dopamine/discrete_domains/run_experiment.py\", line 143, in create_runner\n",
            "    return TrainRunner(base_dir, create_agent)\n",
            "  File \"/content/env/lib/python3.7/site-packages/gin/config.py\", line 1605, in gin_wrapper\n",
            "    utils.augment_exception_message_and_reraise(e, err_str)\n",
            "  File \"/content/env/lib/python3.7/site-packages/gin/utils.py\", line 41, in augment_exception_message_and_reraise\n",
            "    raise proxy.with_traceback(exception.__traceback__) from None\n",
            "  File \"/content/env/lib/python3.7/site-packages/gin/config.py\", line 1582, in gin_wrapper\n",
            "    return fn(*new_args, **new_kwargs)\n",
            "  File \"/content/dopamine/dopamine/discrete_domains/run_experiment.py\", line 561, in __init__\n",
            "    create_environment_fn)\n",
            "  File \"/content/env/lib/python3.7/site-packages/gin/config.py\", line 1605, in gin_wrapper\n",
            "    utils.augment_exception_message_and_reraise(e, err_str)\n",
            "  File \"/content/env/lib/python3.7/site-packages/gin/utils.py\", line 41, in augment_exception_message_and_reraise\n",
            "    raise proxy.with_traceback(exception.__traceback__) from None\n",
            "  File \"/content/env/lib/python3.7/site-packages/gin/config.py\", line 1582, in gin_wrapper\n",
            "    return fn(*new_args, **new_kwargs)\n",
            "  File \"/content/dopamine/dopamine/discrete_domains/run_experiment.py\", line 229, in __init__\n",
            "    summary_writer=self._summary_writer)\n",
            "  File \"/content/env/lib/python3.7/site-packages/gin/config.py\", line 1605, in gin_wrapper\n",
            "    utils.augment_exception_message_and_reraise(e, err_str)\n",
            "  File \"/content/env/lib/python3.7/site-packages/gin/utils.py\", line 41, in augment_exception_message_and_reraise\n",
            "    raise proxy.with_traceback(exception.__traceback__) from None\n",
            "  File \"/content/env/lib/python3.7/site-packages/gin/config.py\", line 1582, in gin_wrapper\n",
            "    return fn(*new_args, **new_kwargs)\n",
            "  File \"/content/dopamine/dopamine/discrete_domains/run_experiment.py\", line 116, in create_agent\n",
            "    another_model = TFAutoModelForSeq2SeqLM.from_pretrained(\"t5-small\")\n",
            "  File \"/content/env/lib/python3.7/site-packages/transformers/models/auto/auto_factory.py\", line 441, in from_pretrained\n",
            "    return model_class.from_pretrained(pretrained_model_name_or_path, *model_args, config=config, **kwargs)\n",
            "  File \"/content/env/lib/python3.7/site-packages/transformers/modeling_tf_utils.py\", line 1595, in from_pretrained\n",
            "    model(model.dummy_inputs)  # build the network with dummy inputs\n",
            "  File \"/content/env/lib/python3.7/site-packages/keras/engine/base_layer_v1.py\", line 765, in __call__\n",
            "    outputs = call_fn(cast_inputs, *args, **kwargs)\n",
            "  File \"/content/env/lib/python3.7/site-packages/tensorflow/python/autograph/impl/api.py\", line 699, in wrapper\n",
            "    raise e.ag_error_metadata.to_exception(e)\n",
            "ValueError: in user code:\n",
            "\n",
            "    File \"/content/env/lib/python3.7/site-packages/transformers/models/t5/modeling_tf_t5.py\", line 1422, in call  *\n",
            "        inputs[\"encoder_outputs\"] = self.encoder(\n",
            "    File \"/content/env/lib/python3.7/site-packages/transformers/models/t5/modeling_tf_t5.py\", line 688, in call  *\n",
            "        inputs[\"inputs_embeds\"] = self.embed_tokens(inputs[\"input_ids\"])\n",
            "    File \"/content/env/lib/python3.7/site-packages/transformers/modeling_tf_utils.py\", line 2003, in __call__  *\n",
            "        return self._layer(inputs, mode)\n",
            "    File \"/content/env/lib/python3.7/site-packages/keras/engine/base_layer_v1.py\", line 745, in __call__  **\n",
            "        self._maybe_build(inputs)\n",
            "    File \"/content/env/lib/python3.7/site-packages/keras/engine/base_layer_v1.py\", line 2072, in _maybe_build\n",
            "        self.build(input_shapes)\n",
            "    File \"/content/env/lib/python3.7/site-packages/transformers/modeling_tf_utils.py\", line 1761, in build\n",
            "        \"weight\", shape=[self.vocab_size, self.hidden_size], initializer=get_initializer(self.initializer_range)\n",
            "    File \"/content/env/lib/python3.7/site-packages/keras/engine/base_layer_v1.py\", line 440, in add_weight\n",
            "        caching_device=caching_device)\n",
            "    File \"/content/env/lib/python3.7/site-packages/keras/engine/base_layer_utils.py\", line 129, in make_variable\n",
            "        shape=variable_shape if variable_shape else None)\n",
            "    File \"/content/env/lib/python3.7/site-packages/keras/initializers/initializers_v2.py\", line 415, in __call__\n",
            "        dtype = _assert_float_dtype(_get_dtype(dtype))\n",
            "    File \"/content/env/lib/python3.7/site-packages/keras/initializers/initializers_v2.py\", line 968, in _assert_float_dtype\n",
            "        raise ValueError(f'Expected floating point type, got {dtype}.')\n",
            "\n",
            "    ValueError: Expected floating point type, got <dtype: 'int32'>.\n",
            "\n",
            "  In call to configurable 'create_agent' (<function create_agent at 0x7fb5e0faa0e0>)\n",
            "  In call to configurable 'Runner' (<class 'dopamine.discrete_domains.run_experiment.Runner'>)\n",
            "  In call to configurable 'TrainRunner' (<class 'dopamine.discrete_domains.run_experiment.TrainRunner'>)\n",
            "  In call to configurable 'create_runner' (<function create_runner at 0x7fb5e0fa8dd0>)\n"
          ]
        }
      ]
    }
  ]
}